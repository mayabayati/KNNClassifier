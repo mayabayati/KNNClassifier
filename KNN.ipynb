{
  "cells": [
    {
      "metadata": {
        "trusted": true,
        "_uuid": "62754e15ca0a19aea3ca6f702129455f342398a1"
      },
      "cell_type": "code",
      "source": "",
      "execution_count": null,
      "outputs": []
    },
    {
      "metadata": {
        "_cell_guid": "79c7e3d0-c299-4dcb-8224-4455121ee9b0",
        "_uuid": "d629ff2d2480ee46fbb7e2d37f6b5fab8052498a",
        "trusted": true
      },
      "cell_type": "code",
      "source": "import pandas as pd\nimport numpy as np\nimport seaborn as sns\nfrom sklearn.model_selection import train_test_split",
      "execution_count": 1,
      "outputs": []
    },
    {
      "metadata": {
        "_uuid": "c248de4aa7f54b9b7eeda85eac99714e54913cce",
        "trusted": true
      },
      "cell_type": "code",
      "source": "from sklearn.neighbors import KNeighborsClassifier",
      "execution_count": 2,
      "outputs": []
    },
    {
      "metadata": {
        "_uuid": "a4a231267092b379f0c20580291324835170bef9",
        "trusted": true
      },
      "cell_type": "code",
      "source": "data=pd.read_csv('../input/assign2/train.csv')\ndatat=pd.read_csv('../input/assign2/test.csv')",
      "execution_count": 10,
      "outputs": []
    },
    {
      "metadata": {
        "_uuid": "6a2b6699b55b41042e877d4363e3175cdb3c7ed4",
        "trusted": true
      },
      "cell_type": "code",
      "source": "XX=data.loc[:,'Elevation':'soil_Type 40']\nXy=data['Forest Cover Type']\nxtest = datat.loc[:,'Elevation':'soil_Type 40']",
      "execution_count": 11,
      "outputs": []
    },
    {
      "metadata": {
        "_uuid": "9e4e088c48c0bf52ce1f45a8494d47c565805044",
        "trusted": true
      },
      "cell_type": "code",
      "source": "remove=['soil_Type 7','soil_Type 8','soil_Type 14','soil_Type 15',\n     'soil_Type 21','soil_Type 28','soil_Type 36','soil_Type 37', 'Hillshade_3pm']",
      "execution_count": 12,
      "outputs": []
    },
    {
      "metadata": {
        "_uuid": "0d8c007c9976926b1f1226cac6a932bb561e909f",
        "trusted": true
      },
      "cell_type": "code",
      "source": "XX.drop(remove, axis=1, inplace=True)\nxtest.drop(remove, axis=1, inplace=True)",
      "execution_count": 13,
      "outputs": []
    },
    {
      "metadata": {
        "_uuid": "a5a060a18848c522ca5609a42552e5aea100ede8",
        "trusted": true
      },
      "cell_type": "code",
      "source": "KNeighbors = KNeighborsClassifier( leaf_size=30,n_neighbors=5) ",
      "execution_count": 16,
      "outputs": []
    },
    {
      "metadata": {
        "_uuid": "ffaad4771a1056b28705a14705c1c53879839715",
        "trusted": true
      },
      "cell_type": "code",
      "source": "KNeighbors.fit(XX,Xy)",
      "execution_count": 17,
      "outputs": [
        {
          "output_type": "execute_result",
          "execution_count": 17,
          "data": {
            "text/plain": "KNeighborsClassifier(algorithm='auto', leaf_size=35, metric='minkowski',\n           metric_params=None, n_jobs=1, n_neighbors=6, p=2,\n           weights='uniform')"
          },
          "metadata": {}
        }
      ]
    },
    {
      "metadata": {
        "trusted": true,
        "_uuid": "1b9a93faea1da5388b8c892164d6fab0bd18f377"
      },
      "cell_type": "code",
      "source": "p = KNeighbors.predict(xtest)",
      "execution_count": 18,
      "outputs": []
    },
    {
      "metadata": {
        "trusted": true,
        "_uuid": "0614871e1ff10f30ac99a700b8c3fa3066460143"
      },
      "cell_type": "code",
      "source": "pd.DataFrame(p, columns=['label']).to_csv('p.csv')",
      "execution_count": 21,
      "outputs": []
    }
  ],
  "metadata": {
    "kernelspec": {
      "display_name": "Python 3",
      "language": "python",
      "name": "python3"
    },
    "language_info": {
      "name": "python",
      "version": "3.6.6",
      "mimetype": "text/x-python",
      "codemirror_mode": {
        "name": "ipython",
        "version": 3
      },
      "pygments_lexer": "ipython3",
      "nbconvert_exporter": "python",
      "file_extension": ".py"
    }
  },
  "nbformat": 4,
  "nbformat_minor": 1
}